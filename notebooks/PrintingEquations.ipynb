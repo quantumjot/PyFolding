{
 "cells": [
  {
   "cell_type": "markdown",
   "metadata": {},
   "source": [
    "# Displaying details of the included models & equations\n",
    "\n",
    "---\n",
    "\n",
    "[Author] ERGM\n",
    "\n",
    "---\n",
    "\n",
    "A number of functions can be used to display the equations for the various models already encoded in Pyfolding.\n",
    "\n",
    "1. We can list all of the models available by calling the ```list_models``` function.\n",
    "\n",
    "2. If we want to know any further information, we can print individual equations as each function has a pre-formatted $\\LaTeX$ equation. This can be displayed using the ```print_equation()``` function. \n",
    "\n",
    "3. If we would like to get further details, for example the arguments of the equation, we can get those easily by request the fit function arguments using the ```fit_func_args``` function.\n",
    "---\n",
    "\n",
    "#### First off lets load pyfolding into this ipython notebook:"
   ]
  },
  {
   "cell_type": "code",
   "execution_count": 1,
   "metadata": {},
   "outputs": [
    {
     "data": {
      "application/javascript": [
       "\n",
       "\tIPython.OutputArea.prototype._should_scroll = function(lines) {\n",
       "\t    return false;\n",
       "\t}\n",
       "\t"
      ],
      "text/plain": [
       "<IPython.core.display.Javascript object>"
      ]
     },
     "metadata": {},
     "output_type": "display_data"
    },
    {
     "name": "stdout",
     "output_type": "stream",
     "text": [
      "PyFolding: Jupyter autoscrolling has been disabled\n"
     ]
    }
   ],
   "source": [
    "# The following two command lines are always required for the correct running of PyFolding\n",
    "\n",
    "# this command causes figures to be plotted inline with the text\n",
    "%matplotlib inline\n",
    "\n",
    "# this command imports all pyfolding models and pyfolding ising models\n",
    "import pyfolding\n",
    "from pyfolding import *\n"
   ]
  },
  {
   "cell_type": "markdown",
   "metadata": {},
   "source": [
    "---\n",
    "#### Now lets list all the models available in pyfolding {does not list the Ising model}\n",
    "\n"
   ]
  },
  {
   "cell_type": "code",
   "execution_count": 2,
   "metadata": {},
   "outputs": [
    {
     "data": {
      "text/plain": [
       "[('CurvedChevronPolynomialFit', 'Verified: False'),\n",
       " ('HomozipperIsingEquilibrium', 'Verified: True'),\n",
       " ('ParallelTwoStateChevron', 'Verified: False'),\n",
       " ('ParallelTwoStateUnfoldingChevron', 'Verified: False'),\n",
       " ('TemplateModel', 'Verified: False'),\n",
       " ('ThreeStateChevron', 'Verified: True'),\n",
       " ('ThreeStateDimericIEquilibrium', 'Verified: False'),\n",
       " ('ThreeStateEquilibrium', 'Verified: False'),\n",
       " ('ThreeStateFastPhaseChevron', 'Verified: True'),\n",
       " ('ThreeStateMonoIEquilibrium', 'Verified: False'),\n",
       " ('ThreeStateSequentialChevron', 'Verified: True'),\n",
       " ('TwoStateChevron', 'Verified: True'),\n",
       " ('TwoStateChevronMovingTransition', 'Verified: False'),\n",
       " ('TwoStateDimerEquilibrium', 'Verified: False'),\n",
       " ('TwoStateEquilibrium', 'Verified: True'),\n",
       " ('TwoStateEquilibriumSloping', 'Verified: True')]"
      ]
     },
     "execution_count": 2,
     "metadata": {},
     "output_type": "execute_result"
    }
   ],
   "source": [
    "# Command imports pyfolding models\n",
    "from pyfolding.models import *\n",
    "\n",
    "# command lists models\n",
    "list_models()\n",
    "\n",
    "# After the model name:\n",
    "#'Verified: True' signifies that we have tested the model and it functions as expected.\n",
    "#'Verified:False' signifies that the model has not been tested."
   ]
  },
  {
   "cell_type": "markdown",
   "metadata": {},
   "source": [
    "---\n",
    "#### Print individual equations\n",
    "\n",
    "If we want to know any further information, we can print each equation using the *Print_equation*: "
   ]
  },
  {
   "cell_type": "code",
   "execution_count": 3,
   "metadata": {},
   "outputs": [
    {
     "data": {
      "text/latex": [
       "$$F = (\\alpha_f+\\beta_f x) + (\\alpha_u+\\beta_u x) \\cdot \\frac{\\exp( m(x-d_{50})) / RT} { 1+\\exp(m(x-d_{50}))/RT}$$"
      ],
      "text/plain": [
       "<IPython.core.display.Math object>"
      ]
     },
     "metadata": {},
     "output_type": "display_data"
    }
   ],
   "source": [
    "# The function has two parts:\n",
    "# part1 states the model you want to print: \"******()\"\n",
    "# part2 prints equation: \".print_equation()\"\n",
    "# as an example I have printed a two-state kinetic folding model:\n",
    "\n",
    "models.TwoStateEquilibriumSloping().print_equation()"
   ]
  },
  {
   "cell_type": "code",
   "execution_count": 4,
   "metadata": {},
   "outputs": [
    {
     "data": {
      "text/latex": [
       "$$F = \\frac{\\exp( m(x-d_{50})) / RT} { 1+\\exp(m(x-d_{50}))/RT}$$"
      ],
      "text/plain": [
       "<IPython.core.display.Math object>"
      ]
     },
     "metadata": {},
     "output_type": "display_data"
    },
    {
     "data": {
      "text/latex": [
       "$$\\Upsilon_0 = (\\alpha_N+\\beta_N x) \\cdot (1-F_D)  + \\Upsilon_D \\cdot F_D \\\\ \\\n",
       "\t\t\\text{where} \\\\ \\\n",
       "\t\tF_D = \\frac{\\sqrt((K_U^2 + (8 K_U Pt)) - K_U}  {4 Pt} \\\\ \\\n",
       "\t\tK_U = \\exp \\frac{(RT \\ln(Pt - m(d_{50} - x))} {RT}$$"
      ],
      "text/plain": [
       "<IPython.core.display.Math object>"
      ]
     },
     "metadata": {},
     "output_type": "display_data"
    },
    {
     "data": {
      "text/latex": [
       "$$\\Upsilon_{obs} = \\Upsilon_N F_N + \\Upsilon_I F_I + \\Upsilon_D F_D \\\\ \\\n",
       "\t\t\t\t\\text{expanded} \\\\ \\\n",
       "\t\t\t\t\\Upsilon_{obs} = \\frac{ \\Upsilon_N + \\Upsilon_I \\exp \\frac {\\Delta G_{NI}^{H_2O} + m_{NI} x} {RT} + \\\n",
       "\t\t\t\t\\Upsilon_D \\exp \\frac{\\Delta G_{NI}^{H_2O} + m_{NI} x} {RT} \\cdot \\exp \\frac{\\Delta G_{ID}^{H_2O} + m_{ID} x} {RT}} {1 + \\exp \\\n",
       "\t\t\t\t\\frac{\\Delta G_{NI}^{H_2O} + m_{NI} x} {RT} + \\exp \\frac{\\Delta G_{NI}^{H_2O} + m_{NI} x} {RT} \\cdot  \\\n",
       " \t\t\t    \\exp \\frac{\\Delta G_{ID}^{H_2O} + m_{ID} x} {RT}}$$"
      ],
      "text/plain": [
       "<IPython.core.display.Math object>"
      ]
     },
     "metadata": {},
     "output_type": "display_data"
    },
    {
     "data": {
      "text/latex": [
       "$$\\Upsilon_{rel} = \\Upsilon_N F_N + \\Upsilon_I F_I + \\Upsilon_D F_D \\\\ \\\n",
       "\t\t\t\t\\text{expanded:} \\\\ \\\n",
       "\t\t\t\t\\Upsilon_{rel} = \\Upsilon_N \\cdot \\frac{2PtF_I^2} {K_1} + \\Upsilon_I F_I + \\Upsilon_D * K_2F_I \\\\ \\\n",
       "\t\t\t\t\\text{where} \\\\ \\\n",
       "\t\t\t\tF_I = \\frac {- K_1 (1+K_2) + \\sqrt(K_1^2 (1+K_2)^2 + (8 Pt K_1))} {4Pt} \\\\ \\\n",
       "\t\t\t\tK_1 = \\exp \\frac{-\\Delta G_{H_20}^1 + m_1 x} {RT} \\\\ \\\n",
       "\t\t\t\tK_2 = \\exp \\frac{-\\Delta G_{H_20}^2 + m_2 x} {RT}$$"
      ],
      "text/plain": [
       "<IPython.core.display.Math object>"
      ]
     },
     "metadata": {},
     "output_type": "display_data"
    },
    {
     "data": {
      "text/latex": [
       "$$\\Upsilon_{rel} = \\Upsilon_N F_N + \\Upsilon_I F_I + \\Upsilon_D F_D \\\\ \\\n",
       "\t\t\t\\text{expanded:} \\\\ \\\n",
       "\t\t\t\\Upsilon_{rel} = \\Upsilon_N \\cdot \\frac{2PtF_D^2} {K_1 K_2} + \\Upsilon_I \\frac{2PtF_D^2} {K_2} + \\Upsilon_D * (F_D) \\\\ \\\n",
       "\t\t\t\\text{where:} \\\\ \\\n",
       "\t\t\tF_D = \\frac {- K_1 K_2 + \\sqrt((K_1 K_2)^2 + 8(1+K_1)(K_1 K_2)Pt)} {4Pt (1 + K_1)} \\\\ \\\n",
       "\t\t\tK_1 = \\exp \\frac{-\\Delta G_{H_20}^1 + m_1 x} {RT} \\\\ \\\n",
       "\t\t\tK_2 = \\exp \\frac{-\\Delta G_{H_20}^2 + m_2 x} {RT}$$"
      ],
      "text/plain": [
       "<IPython.core.display.Math object>"
      ]
     },
     "metadata": {},
     "output_type": "display_data"
    },
    {
     "data": {
      "text/latex": [
       "$$\\text{the partition function } (q) \\text{ and thus fraction of folded protein } (f) \\text{ of n arrayed repeats are given by:}  \\\\ \\\n",
       "\t\t\tq = 1 + \\frac{\\kappa([\\kappa \\tau]^{n+1} - [n+1]\\kappa \\tau - n)} {(\\kappa \\tau + 1)^2}  \\\\ \\\n",
       "\t\t\tf = \\frac{1} {n} \\sum^{n}_{i=0}i\\frac{(n-i+1)\\kappa^i\\tau^{i-1}} {q} \\\\ \\\n",
       "\t\t\t\\text{where:  } \\kappa (x) = \\exp\\frac{-G_i} {RT} = \\exp\\frac{-G_{i,H_20} + m_i x} {RT}  \\\\ \\\n",
       "\t\t\t\\text{  &  } \\tau (x) = \\exp\\frac{-G_{i,i+1}} {RT}$$"
      ],
      "text/plain": [
       "<IPython.core.display.Math object>"
      ]
     },
     "metadata": {},
     "output_type": "display_data"
    }
   ],
   "source": [
    "# To print all equations at once\n",
    "# create a list\n",
    "\n",
    "folding_models = [TwoStateEquilibrium,\n",
    "                  TwoStateDimerEquilibrium,\n",
    "                  ThreeStateEquilibrium,\n",
    "                  ThreeStateMonoIEquilibrium,\n",
    "                  ThreeStateDimericIEquilibrium,\n",
    "                  HomozipperIsingEquilibrium]\n",
    "\n",
    "#feed the list into print_equation()\n",
    "\n",
    "for model in folding_models: \n",
    "    model().print_equation()\n"
   ]
  },
  {
   "cell_type": "markdown",
   "metadata": {},
   "source": [
    "---\n",
    "#### Variables in a given Equation\n",
    "If we would like to get further details, for example the variables of an equation, we can get those easily by request the fit function arguments:"
   ]
  },
  {
   "cell_type": "code",
   "execution_count": 5,
   "metadata": {},
   "outputs": [
    {
     "data": {
      "text/plain": [
       "['kf', 'mf', 'ku', 'mu']"
      ]
     },
     "execution_count": 5,
     "metadata": {},
     "output_type": "execute_result"
    }
   ],
   "source": [
    "# The function has two parts:\n",
    "# part1 states the model you want to find about: \"******()\"\n",
    "# part2 prints the variables: \".fit_func_args\"\n",
    "# as an example I have used the two-state kinetic folding model:\n",
    "\n",
    "TwoStateChevron().fit_func_args"
   ]
  },
  {
   "cell_type": "markdown",
   "metadata": {},
   "source": [
    "---\n",
    "\n",
    "### End of this Notebook.\n",
    "\n",
    "---"
   ]
  }
 ],
 "metadata": {
  "kernelspec": {
   "display_name": "Python 2",
   "language": "python",
   "name": "python2"
  },
  "language_info": {
   "codemirror_mode": {
    "name": "ipython",
    "version": 2
   },
   "file_extension": ".py",
   "mimetype": "text/x-python",
   "name": "python",
   "nbconvert_exporter": "python",
   "pygments_lexer": "ipython2",
   "version": "2.7.13"
  }
 },
 "nbformat": 4,
 "nbformat_minor": 1
}
