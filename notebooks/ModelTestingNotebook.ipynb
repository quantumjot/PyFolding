{
 "cells": [
  {
   "cell_type": "markdown",
   "metadata": {},
   "source": [
    "# Model Testing Notebook\n",
    "---\n",
    "\n",
    "[Authors] ERGM\n",
    "\n",
    "---\n",
    "\n",
    "A Notebook to showing an example of testing an equation in PyFolding. Once you have tested it here you can add it to your models.py from the PyFolding installation and setup PyFolding again to incorporate it into your local copy. \n",
    "\n"
   ]
  },
  {
   "cell_type": "code",
   "execution_count": 1,
   "metadata": {},
   "outputs": [
    {
     "data": {
      "application/javascript": [
       "\n",
       "\tIPython.OutputArea.prototype._should_scroll = function(lines) {\n",
       "\t    return false;\n",
       "\t}\n",
       "\t"
      ],
      "text/plain": [
       "<IPython.core.display.Javascript object>"
      ]
     },
     "metadata": {},
     "output_type": "display_data"
    },
    {
     "name": "stdout",
     "output_type": "stream",
     "text": [
      "PyFolding: Jupyter autoscrolling has been disabled\n"
     ]
    }
   ],
   "source": [
    "# Load up pyfolding, etc.\n",
    "%matplotlib inline\n",
    "import pyfolding\n",
    "from pyfolding import models\n",
    "\n",
    "# let's use some other libraries also\n",
    "import matplotlib.pyplot as plt\n",
    "import numpy as np\n",
    "\n",
    "# Command imports pyfolding models\n",
    "from pyfolding.models import *\n"
   ]
  },
  {
   "cell_type": "code",
   "execution_count": 2,
   "metadata": {
    "collapsed": true
   },
   "outputs": [],
   "source": [
    "# loading some data - The kinetics of each protein is in one .csv as per the example .csv above\n",
    "pth = \"/Users/ergm/Dropbox/AlanLoweCollaboration/Datasets/GankyrinFolding\"\n",
    "GankyrinChevron = pyfolding.read_kinetic_data(pth,\"GankyrinWTChevron.csv\")"
   ]
  },
  {
   "cell_type": "code",
   "execution_count": 3,
   "metadata": {
    "collapsed": true
   },
   "outputs": [],
   "source": [
    "# let's give this dataset a good name\n",
    "GankyrinChevron.ID = 'Gankyrin WT'"
   ]
  },
  {
   "cell_type": "code",
   "execution_count": 4,
   "metadata": {},
   "outputs": [
    {
     "name": "stdout",
     "output_type": "stream",
     "text": [
      "Set temperature to 25.00°C\n",
      "(NOTE: Careful, this sets the temperature for all subsequent calculations)\n"
     ]
    }
   ],
   "source": [
    "pyfolding.set_temperature(25.0)"
   ]
  },
  {
   "cell_type": "code",
   "execution_count": 19,
   "metadata": {
    "collapsed": true
   },
   "outputs": [],
   "source": [
    "# This is a test model.  It contains everything you need to fit in pyfolding\n",
    "\n",
    "# only change the name (in blue)\n",
    "\n",
    "class TestEq(core.FitModel):\n",
    "    \n",
    "# This bit is editted out between the \"\"\" \"\"\" . It just explains what the equation is and where it came from    \n",
    "    \n",
    "    \"\"\" Two state chevron with moving transition state.\n",
    "    Second order polynomial.\n",
    "\n",
    "    k_u = k_u^{H_2O} * \\exp(m_{ku}*x) * \\exp(m_{ku}^' * x^2)\n",
    "    k_f = k_f^{H_2O} * \\exp(m_{kf}*x) * \\exp(m_{kf}^' * x^2)\n",
    "\n",
    "    k_{obs} = k_u + k_f\n",
    "\n",
    "    Notes:\n",
    "        Ternstrom et al. From snapshot to movie: phi analysis\n",
    "        of protein folding transition states taken one step\n",
    "        further.\n",
    "        PNAS (1999) vol. 96 (26) pp. 14854-9\n",
    "        \n",
    "    \"\"\"\n",
    "    \n",
    "# In this bit only touch the \"self.default_params\" which are the initial parameters for the model to start fitting with.\n",
    "    \n",
    "    def __init__(self):\n",
    "        core.FitModel.__init__(self)\n",
    "        fit_args = self.fit_func_args\n",
    "        self.params = tuple( [(fit_args[i],i) for i in xrange(len(fit_args))] )\n",
    "        self.default_params = np.array([1, 1.3480, 100, 1., -1])\n",
    "        self.verified = True\n",
    "        \n",
    "# This is the equation which will be fit to\n",
    "\n",
    "    def fit_func(self, x, ku, mu, kf, mf, m_prime):\n",
    "        k_obs = (ku * (np.exp(mu*x))*(np.exp(m_prime*x*x))) + (kf * (np.exp(mf*x)) * (np.exp(m_prime*x*x)))\n",
    "        return k_obs\n",
    "\n",
    "    def error_func(self, y):\n",
    "        return np.log(y)\n",
    "    \n",
    "# This bit is the equation which will be printed when you ask it too in PyFolding    \n",
    "\n",
    "    @property\n",
    "    def equation(self):\n",
    "        return r'k_u = k_u^{H_2O} \\cdot \\exp(m_{ku}*x) \\cdot \\exp(m^{\\'} x^2) \\\\ \\\n",
    "                k_f = k_f^{H_2O} \\cdot \\exp(m_{kf}*x) \\cdot \\exp(m^{\\'} x^2) \\\\ \\\n",
    "                k_{obs} = k_u + k_f'"
   ]
  },
  {
   "cell_type": "code",
   "execution_count": 20,
   "metadata": {},
   "outputs": [
    {
     "name": "stderr",
     "output_type": "stream",
     "text": [
      "/Users/ergm/anaconda/lib/python2.7/site-packages/ipykernel_launcher.py:41: RuntimeWarning: invalid value encountered in log\n"
     ]
    },
    {
     "name": "stdout",
     "output_type": "stream",
     "text": [
      "==================================================\n",
      " Fitting results \n",
      "==================================================\n",
      "ID: Gankyrin WT\n",
      "Model: TestEq\n",
      "Method: scipy.optimize.curve_fit \n",
      "\n",
      "ku: 0.00000 ± 0.00000\n",
      "mu: 4.98448 ± 0.08190\n",
      "kf: 8.64128 ± 0.38327\n",
      "mf: 0.19051 ± 0.03356\n",
      "m_prime: -0.27314 ± 0.00577\n",
      "--------------------------------------------------\n",
      "R^2: 0.86662\n",
      "==================================================\n"
     ]
    },
    {
     "data": {
      "image/png": "[encoded data removed]",
      "text/plain": [
       "<matplotlib.figure.Figure at 0x11024eb90>"
      ]
     },
     "metadata": {},
     "output_type": "display_data"
    }
   ],
   "source": [
    "# Lets fit some data and see if the model works!\n",
    "\n",
    "GankyrinChevron.fit_func = TestEq\n",
    "GankyrinChevron.fit()\n",
    "GankyrinChevron.plot()"
   ]
  },
  {
   "cell_type": "markdown",
   "metadata": {
    "collapsed": true
   },
   "source": [
    "NoteBook End"
   ]
  }
 ],
 "metadata": {
  "kernelspec": {
   "display_name": "Python 2",
   "language": "python",
   "name": "python2"
  },
  "language_info": {
   "codemirror_mode": {
    "name": "ipython",
    "version": 2
   },
   "file_extension": ".py",
   "mimetype": "text/x-python",
   "name": "python",
   "nbconvert_exporter": "python",
   "pygments_lexer": "ipython2",
   "version": "2.7.13"
  }
 },
 "nbformat": 4,
 "nbformat_minor": 1
}
